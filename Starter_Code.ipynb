{
 "cells": [
  {
   "cell_type": "markdown",
   "metadata": {},
   "source": [
    "## Preprocessing"
   ]
  },
  {
   "cell_type": "code",
   "execution_count": 52,
   "metadata": {},
   "outputs": [
    {
     "data": {
      "text/html": [
       "<div>\n",
       "<style scoped>\n",
       "    .dataframe tbody tr th:only-of-type {\n",
       "        vertical-align: middle;\n",
       "    }\n",
       "\n",
       "    .dataframe tbody tr th {\n",
       "        vertical-align: top;\n",
       "    }\n",
       "\n",
       "    .dataframe thead th {\n",
       "        text-align: right;\n",
       "    }\n",
       "</style>\n",
       "<table border=\"1\" class=\"dataframe\">\n",
       "  <thead>\n",
       "    <tr style=\"text-align: right;\">\n",
       "      <th></th>\n",
       "      <th>EIN</th>\n",
       "      <th>NAME</th>\n",
       "      <th>APPLICATION_TYPE</th>\n",
       "      <th>AFFILIATION</th>\n",
       "      <th>CLASSIFICATION</th>\n",
       "      <th>USE_CASE</th>\n",
       "      <th>ORGANIZATION</th>\n",
       "      <th>STATUS</th>\n",
       "      <th>INCOME_AMT</th>\n",
       "      <th>SPECIAL_CONSIDERATIONS</th>\n",
       "      <th>ASK_AMT</th>\n",
       "      <th>IS_SUCCESSFUL</th>\n",
       "    </tr>\n",
       "  </thead>\n",
       "  <tbody>\n",
       "    <tr>\n",
       "      <th>0</th>\n",
       "      <td>10520599</td>\n",
       "      <td>BLUE KNIGHTS MOTORCYCLE CLUB</td>\n",
       "      <td>T10</td>\n",
       "      <td>Independent</td>\n",
       "      <td>C1000</td>\n",
       "      <td>ProductDev</td>\n",
       "      <td>Association</td>\n",
       "      <td>1</td>\n",
       "      <td>0</td>\n",
       "      <td>N</td>\n",
       "      <td>5000</td>\n",
       "      <td>1</td>\n",
       "    </tr>\n",
       "    <tr>\n",
       "      <th>1</th>\n",
       "      <td>10531628</td>\n",
       "      <td>AMERICAN CHESAPEAKE CLUB CHARITABLE TR</td>\n",
       "      <td>T3</td>\n",
       "      <td>Independent</td>\n",
       "      <td>C2000</td>\n",
       "      <td>Preservation</td>\n",
       "      <td>Co-operative</td>\n",
       "      <td>1</td>\n",
       "      <td>1-9999</td>\n",
       "      <td>N</td>\n",
       "      <td>108590</td>\n",
       "      <td>1</td>\n",
       "    </tr>\n",
       "    <tr>\n",
       "      <th>2</th>\n",
       "      <td>10547893</td>\n",
       "      <td>ST CLOUD PROFESSIONAL FIREFIGHTERS</td>\n",
       "      <td>T5</td>\n",
       "      <td>CompanySponsored</td>\n",
       "      <td>C3000</td>\n",
       "      <td>ProductDev</td>\n",
       "      <td>Association</td>\n",
       "      <td>1</td>\n",
       "      <td>0</td>\n",
       "      <td>N</td>\n",
       "      <td>5000</td>\n",
       "      <td>0</td>\n",
       "    </tr>\n",
       "    <tr>\n",
       "      <th>3</th>\n",
       "      <td>10553066</td>\n",
       "      <td>SOUTHSIDE ATHLETIC ASSOCIATION</td>\n",
       "      <td>T3</td>\n",
       "      <td>CompanySponsored</td>\n",
       "      <td>C2000</td>\n",
       "      <td>Preservation</td>\n",
       "      <td>Trust</td>\n",
       "      <td>1</td>\n",
       "      <td>10000-24999</td>\n",
       "      <td>N</td>\n",
       "      <td>6692</td>\n",
       "      <td>1</td>\n",
       "    </tr>\n",
       "    <tr>\n",
       "      <th>4</th>\n",
       "      <td>10556103</td>\n",
       "      <td>GENETIC RESEARCH INSTITUTE OF THE DESERT</td>\n",
       "      <td>T3</td>\n",
       "      <td>Independent</td>\n",
       "      <td>C1000</td>\n",
       "      <td>Heathcare</td>\n",
       "      <td>Trust</td>\n",
       "      <td>1</td>\n",
       "      <td>100000-499999</td>\n",
       "      <td>N</td>\n",
       "      <td>142590</td>\n",
       "      <td>1</td>\n",
       "    </tr>\n",
       "  </tbody>\n",
       "</table>\n",
       "</div>"
      ],
      "text/plain": [
       "        EIN                                      NAME APPLICATION_TYPE  \\\n",
       "0  10520599              BLUE KNIGHTS MOTORCYCLE CLUB              T10   \n",
       "1  10531628    AMERICAN CHESAPEAKE CLUB CHARITABLE TR               T3   \n",
       "2  10547893        ST CLOUD PROFESSIONAL FIREFIGHTERS               T5   \n",
       "3  10553066            SOUTHSIDE ATHLETIC ASSOCIATION               T3   \n",
       "4  10556103  GENETIC RESEARCH INSTITUTE OF THE DESERT               T3   \n",
       "\n",
       "        AFFILIATION CLASSIFICATION      USE_CASE  ORGANIZATION  STATUS  \\\n",
       "0       Independent          C1000    ProductDev   Association       1   \n",
       "1       Independent          C2000  Preservation  Co-operative       1   \n",
       "2  CompanySponsored          C3000    ProductDev   Association       1   \n",
       "3  CompanySponsored          C2000  Preservation         Trust       1   \n",
       "4       Independent          C1000     Heathcare         Trust       1   \n",
       "\n",
       "      INCOME_AMT SPECIAL_CONSIDERATIONS  ASK_AMT  IS_SUCCESSFUL  \n",
       "0              0                      N     5000              1  \n",
       "1         1-9999                      N   108590              1  \n",
       "2              0                      N     5000              0  \n",
       "3    10000-24999                      N     6692              1  \n",
       "4  100000-499999                      N   142590              1  "
      ]
     },
     "execution_count": 52,
     "metadata": {},
     "output_type": "execute_result"
    }
   ],
   "source": [
    "# Import our dependencies\n",
    "from sklearn.model_selection import train_test_split\n",
    "from sklearn.preprocessing import StandardScaler\n",
    "import pandas as pd\n",
    "import tensorflow as tf\n",
    "\n",
    "#  Import and read the charity_data.csv.\n",
    "import pandas as pd \n",
    "application_df = pd.read_csv(\"https://static.bc-edx.com/data/dl-1-2/m21/lms/starter/charity_data.csv\")\n",
    "application_df.head()"
   ]
  },
  {
   "cell_type": "code",
   "execution_count": 53,
   "metadata": {},
   "outputs": [
    {
     "name": "stderr",
     "output_type": "stream",
     "text": [
      "/var/folders/qf/znkw8q012f9d5c75hlcsjrqh0000gn/T/ipykernel_21889/2516367073.py:4: FutureWarning: In a future version of pandas all arguments of DataFrame.drop except for the argument 'labels' will be keyword-only.\n",
      "  application_df = application_df.drop([\"EIN\",\"NAME\"],1)\n"
     ]
    }
   ],
   "source": [
    "#Drop the EIN and NAME columns (2 points)\n",
    "# Drop the non-beneficial ID columns, 'EIN' and 'NAME'.\n",
    "#  YOUR CODE GOES HER\n",
    "application_df = application_df.drop([\"EIN\",\"NAME\"],1)"
   ]
  },
  {
   "cell_type": "code",
   "execution_count": 54,
   "metadata": {},
   "outputs": [
    {
     "data": {
      "text/plain": [
       "APPLICATION_TYPE            17\n",
       "AFFILIATION                  6\n",
       "CLASSIFICATION              71\n",
       "USE_CASE                     5\n",
       "ORGANIZATION                 4\n",
       "STATUS                       2\n",
       "INCOME_AMT                   9\n",
       "SPECIAL_CONSIDERATIONS       2\n",
       "ASK_AMT                   8747\n",
       "IS_SUCCESSFUL                2\n",
       "dtype: int64"
      ]
     },
     "execution_count": 54,
     "metadata": {},
     "output_type": "execute_result"
    }
   ],
   "source": [
    "#Determine the number of unique values in each column (2 points)\n",
    "# Determine the number of unique values in each column.\n",
    "#  YOUR CODE GOES HERE\n",
    "application_df.nunique()"
   ]
  },
  {
   "cell_type": "code",
   "execution_count": 55,
   "metadata": {},
   "outputs": [
    {
     "data": {
      "text/plain": [
       "T3     27037\n",
       "T4      1542\n",
       "T6      1216\n",
       "T5      1173\n",
       "T19     1065\n",
       "T8       737\n",
       "T7       725\n",
       "T10      528\n",
       "T9       156\n",
       "T13       66\n",
       "T12       27\n",
       "T2        16\n",
       "T25        3\n",
       "T14        3\n",
       "T29        2\n",
       "T15        2\n",
       "T17        1\n",
       "Name: APPLICATION_TYPE, dtype: int64"
      ]
     },
     "execution_count": 55,
     "metadata": {},
     "output_type": "execute_result"
    }
   ],
   "source": [
    "# Look at APPLICATION_TYPE value counts for binning\n",
    "#  YOUR CODE GOES HERE\n",
    "application_counts =application_df[\"APPLICATION_TYPE\"].value_counts()\n",
    "application_counts"
   ]
  },
  {
   "cell_type": "code",
   "execution_count": 56,
   "metadata": {},
   "outputs": [
    {
     "data": {
      "text/plain": [
       "T3       27037\n",
       "Other     2266\n",
       "T4        1542\n",
       "T6        1216\n",
       "T5        1173\n",
       "T19       1065\n",
       "Name: APPLICATION_TYPE, dtype: int64"
      ]
     },
     "execution_count": 56,
     "metadata": {},
     "output_type": "execute_result"
    }
   ],
   "source": [
    "# Choose a cutoff value and create a list of application types to be replaced\n",
    "# use the variable name `application_types_to_replace`\n",
    "#  YOUR CODE GOES HERE\n",
    "application_types_to_replace = list(application_counts[application_counts < 1000].index)\n",
    "\n",
    "\n",
    "# Replace in dataframe \n",
    "for app in application_types_to_replace:\n",
    "    application_df['APPLICATION_TYPE'] = application_df['APPLICATION_TYPE'].replace(app,\"Other\")\n",
    "\n",
    "# Check to make sure binning was successful\n",
    "application_df['APPLICATION_TYPE'].value_counts()"
   ]
  },
  {
   "cell_type": "code",
   "execution_count": 57,
   "metadata": {},
   "outputs": [
    {
     "data": {
      "text/plain": [
       "C1000    17326\n",
       "C2000     6074\n",
       "C1200     4837\n",
       "C3000     1918\n",
       "C2100     1883\n",
       "         ...  \n",
       "C4120        1\n",
       "C8210        1\n",
       "C2561        1\n",
       "C4500        1\n",
       "C2150        1\n",
       "Name: CLASSIFICATION, Length: 71, dtype: int64"
      ]
     },
     "execution_count": 57,
     "metadata": {},
     "output_type": "execute_result"
    }
   ],
   "source": [
    "# Look at CLASSIFICATION value counts for binning\n",
    "#  YOUR CODE GOES HERE\n",
    "classification_value_counts = application_df.CLASSIFICATION.value_counts()\n",
    "classification_value_counts"
   ]
  },
  {
   "cell_type": "code",
   "execution_count": 58,
   "metadata": {},
   "outputs": [
    {
     "data": {
      "text/plain": [
       "C1000    17326\n",
       "C2000     6074\n",
       "C1200     4837\n",
       "C3000     1918\n",
       "C2100     1883\n",
       "C7000      777\n",
       "C1700      287\n",
       "C4000      194\n",
       "C5000      116\n",
       "C1270      114\n",
       "C2700      104\n",
       "C2800       95\n",
       "C7100       75\n",
       "C1300       58\n",
       "C1280       50\n",
       "C1230       36\n",
       "C1400       34\n",
       "C7200       32\n",
       "C2300       32\n",
       "C1240       30\n",
       "C8000       20\n",
       "C7120       18\n",
       "C1500       16\n",
       "C1800       15\n",
       "C6000       15\n",
       "C1250       14\n",
       "C8200       11\n",
       "C1238       10\n",
       "C1278       10\n",
       "C1235        9\n",
       "C1237        9\n",
       "C7210        7\n",
       "C2400        6\n",
       "C1720        6\n",
       "C4100        6\n",
       "C1257        5\n",
       "C1600        5\n",
       "C1260        3\n",
       "C2710        3\n",
       "C0           3\n",
       "C3200        2\n",
       "C1234        2\n",
       "C1246        2\n",
       "C1267        2\n",
       "C1256        2\n",
       "Name: CLASSIFICATION, dtype: int64"
      ]
     },
     "execution_count": 58,
     "metadata": {},
     "output_type": "execute_result"
    }
   ],
   "source": [
    "# You may find it helpful to look at CLASSIFICATION value counts >1 \n",
    "#  YOUR CODE GOES HERE\n",
    "#of course I am going to take the advice of the notes above\n",
    "classification_value_counts[classification_value_counts>1]"
   ]
  },
  {
   "cell_type": "code",
   "execution_count": 59,
   "metadata": {},
   "outputs": [
    {
     "data": {
      "text/plain": [
       "C1000    17326\n",
       "C2000     6074\n",
       "C1200     4837\n",
       "C3000     1918\n",
       "C2100     1883\n",
       "C7000      777\n",
       "C1700      287\n",
       "C4000      194\n",
       "C5000      116\n",
       "C1270      114\n",
       "C2700      104\n",
       "Name: CLASSIFICATION, dtype: int64"
      ]
     },
     "execution_count": 59,
     "metadata": {},
     "output_type": "execute_result"
    }
   ],
   "source": [
    "classification_value_counts[classification_value_counts>100]"
   ]
  },
  {
   "cell_type": "code",
   "execution_count": 60,
   "metadata": {},
   "outputs": [
    {
     "data": {
      "text/plain": [
       "C1000    17326\n",
       "C2000     6074\n",
       "C1200     4837\n",
       "C3000     1918\n",
       "C2100     1883\n",
       "C7000      777\n",
       "C1700      287\n",
       "C4000      194\n",
       "C5000      116\n",
       "C1270      114\n",
       "C2700      104\n",
       "C2800       95\n",
       "C7100       75\n",
       "C1300       58\n",
       "Name: CLASSIFICATION, dtype: int64"
      ]
     },
     "execution_count": 60,
     "metadata": {},
     "output_type": "execute_result"
    }
   ],
   "source": [
    "classification_value_counts[classification_value_counts>50]"
   ]
  },
  {
   "cell_type": "code",
   "execution_count": 61,
   "metadata": {},
   "outputs": [
    {
     "data": {
      "text/plain": [
       "C1000    17326\n",
       "C2000     6074\n",
       "C1200     4837\n",
       "C3000     1918\n",
       "C2100     1883\n",
       "C7000      777\n",
       "C1700      287\n",
       "C4000      194\n",
       "C5000      116\n",
       "C1270      114\n",
       "C2700      104\n",
       "C2800       95\n",
       "C7100       75\n",
       "C1300       58\n",
       "C1280       50\n",
       "C1230       36\n",
       "C1400       34\n",
       "C7200       32\n",
       "C2300       32\n",
       "C1240       30\n",
       "C8000       20\n",
       "C7120       18\n",
       "C1500       16\n",
       "C1800       15\n",
       "C6000       15\n",
       "C1250       14\n",
       "C8200       11\n",
       "Name: CLASSIFICATION, dtype: int64"
      ]
     },
     "execution_count": 61,
     "metadata": {},
     "output_type": "execute_result"
    }
   ],
   "source": [
    "#For columns with more than 10 unique values, determine the number of data points for each unique value (4 points)\n",
    "classification_value_counts[classification_value_counts>10]"
   ]
  },
  {
   "cell_type": "code",
   "execution_count": 62,
   "metadata": {},
   "outputs": [
    {
     "data": {
      "text/plain": [
       "C1000    17326\n",
       "C2000     6074\n",
       "C1200     4837\n",
       "Other     2261\n",
       "C3000     1918\n",
       "C2100     1883\n",
       "Name: CLASSIFICATION, dtype: int64"
      ]
     },
     "execution_count": 62,
     "metadata": {},
     "output_type": "execute_result"
    }
   ],
   "source": [
    "# Choose a cutoff value and create a list of classifications to be replaced\n",
    "# use the variable name `classifications_to_replace`\n",
    "#  YOUR CODE GOES HERE\n",
    "classifications_to_replace=list(classification_value_counts[classification_value_counts < 1000].index)\n",
    "# Replace in dataframe\n",
    "for cls in classifications_to_replace:\n",
    "    application_df['CLASSIFICATION'] = application_df['CLASSIFICATION'].replace(cls,\"Other\")\n",
    "    \n",
    "# Check to make sure binning was successful\n",
    "application_df['CLASSIFICATION'].value_counts()"
   ]
  },
  {
   "cell_type": "code",
   "execution_count": 63,
   "metadata": {},
   "outputs": [],
   "source": [
    "# Convert categorical data to numeric with `pd.get_dummies`\n",
    "#  YOUR CODE GOES HERE\n",
    "app_withdummies = pd.get_dummies(application_df)\n",
    "\n"
   ]
  },
  {
   "cell_type": "code",
   "execution_count": 64,
   "metadata": {},
   "outputs": [],
   "source": [
    "#Create a feature array, X, and a target array, y by using the preprocessed data (5 points)\n",
    "# Split our preprocessed data into our features and target arrays\n",
    "#  YOUR CODE GOES HERE\n",
    "X = app_withdummies.drop([\"IS_SUCCESSFUL\"], axis='columns').values\n",
    "y = app_withdummies[\"IS_SUCCESSFUL\"].values\n",
    "# Split the preprocessed data into a training and testing dataset(5 points)\n",
    "#  YOUR CODE GOES HERE\n",
    "X_train, X_test, y_train, y_test = train_test_split(X, y, random_state=1)"
   ]
  },
  {
   "cell_type": "code",
   "execution_count": 65,
   "metadata": {},
   "outputs": [],
   "source": [
    "#Scale the data by using a StandardScaler that has been fitted to the training data (5 points)\n",
    "# Create a StandardScaler instances\n",
    "scaler = StandardScaler()\n",
    "\n",
    "# Fit the StandardScaler\n",
    "X_scaler = scaler.fit(X_train)\n",
    "\n",
    "# Scale the data\n",
    "X_train_scaled = X_scaler.transform(X_train)\n",
    "X_test_scaled = X_scaler.transform(X_test)"
   ]
  },
  {
   "cell_type": "markdown",
   "metadata": {},
   "source": [
    "## Compile, Train and Evaluate the Model"
   ]
  },
  {
   "cell_type": "code",
   "execution_count": 66,
   "metadata": {},
   "outputs": [
    {
     "name": "stdout",
     "output_type": "stream",
     "text": [
      "Model: \"sequential_2\"\n",
      "_________________________________________________________________\n",
      " Layer (type)                Output Shape              Param #   \n",
      "=================================================================\n",
      " dense_3 (Dense)             (None, 8)                 328       \n",
      "                                                                 \n",
      " dense_4 (Dense)             (None, 5)                 45        \n",
      "                                                                 \n",
      " dense_5 (Dense)             (None, 1)                 6         \n",
      "                                                                 \n",
      "=================================================================\n",
      "Total params: 379 (1.48 KB)\n",
      "Trainable params: 379 (1.48 KB)\n",
      "Non-trainable params: 0 (0.00 Byte)\n",
      "_________________________________________________________________\n"
     ]
    }
   ],
   "source": [
    "# Define the model - deep neural net, i.e., the number of input features and hidden nodes for each layer.\n",
    "#  YOUR CODE GOES HERE\n",
    "#goin to have to pull from 21.2.6\n",
    "number_input_features = len(X_train[0])\n",
    "hidden_nodes_layer1 =  8\n",
    "hidden_nodes_layer2 = 5\n",
    "\n",
    "nn = tf.keras.models.Sequential()\n",
    "\n",
    "# First hidden layer\n",
    "nn.add(\n",
    "    tf.keras.layers.Dense(units=hidden_nodes_layer1, input_dim=number_input_features, activation=\"relu\")\n",
    ")\n",
    "\n",
    "# Second hidden layer\n",
    "nn.add(tf.keras.layers.Dense(units=hidden_nodes_layer2, activation=\"relu\"))\n",
    "\n",
    "# Output layer\n",
    "nn.add(tf.keras.layers.Dense(units=1, activation=\"sigmoid\"))\n",
    "\n",
    "# Check the structure of the model\n",
    "nn.summary()"
   ]
  },
  {
   "cell_type": "code",
   "execution_count": 67,
   "metadata": {},
   "outputs": [],
   "source": [
    "# Compile the model\n",
    "#  YOUR CODE GOES HERE\n",
    "nn.compile(loss=\"binary_crossentropy\", optimizer=\"adam\", metrics=[\"accuracy\"])"
   ]
  },
  {
   "cell_type": "code",
   "execution_count": 68,
   "metadata": {},
   "outputs": [
    {
     "name": "stdout",
     "output_type": "stream",
     "text": [
      "Epoch 1/100\n",
      "804/804 [==============================] - 1s 510us/step - loss: 0.6370 - accuracy: 0.6716\n",
      "Epoch 2/100\n",
      "804/804 [==============================] - 0s 482us/step - loss: 0.5730 - accuracy: 0.7253\n",
      "Epoch 3/100\n",
      "804/804 [==============================] - 0s 528us/step - loss: 0.5653 - accuracy: 0.7285\n",
      "Epoch 4/100\n",
      "804/804 [==============================] - 0s 498us/step - loss: 0.5618 - accuracy: 0.7286\n",
      "Epoch 5/100\n",
      "804/804 [==============================] - 0s 497us/step - loss: 0.5602 - accuracy: 0.7285\n",
      "Epoch 6/100\n",
      "804/804 [==============================] - 0s 485us/step - loss: 0.5589 - accuracy: 0.7297\n",
      "Epoch 7/100\n",
      "804/804 [==============================] - 0s 479us/step - loss: 0.5581 - accuracy: 0.7292\n",
      "Epoch 8/100\n",
      "804/804 [==============================] - 0s 510us/step - loss: 0.5576 - accuracy: 0.7296\n",
      "Epoch 9/100\n",
      "804/804 [==============================] - 0s 522us/step - loss: 0.5567 - accuracy: 0.7299\n",
      "Epoch 10/100\n",
      "804/804 [==============================] - 0s 499us/step - loss: 0.5561 - accuracy: 0.7308\n",
      "Epoch 11/100\n",
      "804/804 [==============================] - 0s 499us/step - loss: 0.5560 - accuracy: 0.7310\n",
      "Epoch 12/100\n",
      "804/804 [==============================] - 0s 499us/step - loss: 0.5554 - accuracy: 0.7314\n",
      "Epoch 13/100\n",
      "804/804 [==============================] - 0s 505us/step - loss: 0.5552 - accuracy: 0.7311\n",
      "Epoch 14/100\n",
      "804/804 [==============================] - 0s 493us/step - loss: 0.5551 - accuracy: 0.7310\n",
      "Epoch 15/100\n",
      "804/804 [==============================] - 0s 520us/step - loss: 0.5548 - accuracy: 0.7308\n",
      "Epoch 16/100\n",
      "804/804 [==============================] - 0s 494us/step - loss: 0.5546 - accuracy: 0.7317\n",
      "Epoch 17/100\n",
      "804/804 [==============================] - 0s 483us/step - loss: 0.5543 - accuracy: 0.7311\n",
      "Epoch 18/100\n",
      "804/804 [==============================] - 0s 481us/step - loss: 0.5542 - accuracy: 0.7308\n",
      "Epoch 19/100\n",
      "804/804 [==============================] - 0s 478us/step - loss: 0.5540 - accuracy: 0.7320\n",
      "Epoch 20/100\n",
      "804/804 [==============================] - 0s 482us/step - loss: 0.5542 - accuracy: 0.7308\n",
      "Epoch 21/100\n",
      "804/804 [==============================] - 0s 493us/step - loss: 0.5539 - accuracy: 0.7313\n",
      "Epoch 22/100\n",
      "804/804 [==============================] - 0s 483us/step - loss: 0.5534 - accuracy: 0.7314\n",
      "Epoch 23/100\n",
      "804/804 [==============================] - 0s 479us/step - loss: 0.5536 - accuracy: 0.7316\n",
      "Epoch 24/100\n",
      "804/804 [==============================] - 0s 477us/step - loss: 0.5528 - accuracy: 0.7318\n",
      "Epoch 25/100\n",
      "804/804 [==============================] - 0s 484us/step - loss: 0.5532 - accuracy: 0.7323\n",
      "Epoch 26/100\n",
      "804/804 [==============================] - 0s 480us/step - loss: 0.5527 - accuracy: 0.7308\n",
      "Epoch 27/100\n",
      "804/804 [==============================] - 0s 482us/step - loss: 0.5525 - accuracy: 0.7315\n",
      "Epoch 28/100\n",
      "804/804 [==============================] - 0s 502us/step - loss: 0.5524 - accuracy: 0.7318\n",
      "Epoch 29/100\n",
      "804/804 [==============================] - 0s 495us/step - loss: 0.5523 - accuracy: 0.7321\n",
      "Epoch 30/100\n",
      "804/804 [==============================] - 0s 477us/step - loss: 0.5524 - accuracy: 0.7318\n",
      "Epoch 31/100\n",
      "804/804 [==============================] - 0s 480us/step - loss: 0.5519 - accuracy: 0.7319\n",
      "Epoch 32/100\n",
      "804/804 [==============================] - 0s 480us/step - loss: 0.5520 - accuracy: 0.7319\n",
      "Epoch 33/100\n",
      "804/804 [==============================] - 0s 476us/step - loss: 0.5519 - accuracy: 0.7323\n",
      "Epoch 34/100\n",
      "804/804 [==============================] - 0s 492us/step - loss: 0.5519 - accuracy: 0.7318\n",
      "Epoch 35/100\n",
      "804/804 [==============================] - 0s 477us/step - loss: 0.5516 - accuracy: 0.7323\n",
      "Epoch 36/100\n",
      "804/804 [==============================] - 0s 479us/step - loss: 0.5517 - accuracy: 0.7327\n",
      "Epoch 37/100\n",
      "804/804 [==============================] - 0s 479us/step - loss: 0.5516 - accuracy: 0.7314\n",
      "Epoch 38/100\n",
      "804/804 [==============================] - 0s 480us/step - loss: 0.5514 - accuracy: 0.7325\n",
      "Epoch 39/100\n",
      "804/804 [==============================] - 0s 490us/step - loss: 0.5514 - accuracy: 0.7317\n",
      "Epoch 40/100\n",
      "804/804 [==============================] - 0s 496us/step - loss: 0.5510 - accuracy: 0.7325\n",
      "Epoch 41/100\n",
      "804/804 [==============================] - 0s 480us/step - loss: 0.5513 - accuracy: 0.7324\n",
      "Epoch 42/100\n",
      "804/804 [==============================] - 0s 477us/step - loss: 0.5514 - accuracy: 0.7333\n",
      "Epoch 43/100\n",
      "804/804 [==============================] - 0s 480us/step - loss: 0.5511 - accuracy: 0.7324\n",
      "Epoch 44/100\n",
      "804/804 [==============================] - 0s 485us/step - loss: 0.5509 - accuracy: 0.7322\n",
      "Epoch 45/100\n",
      "804/804 [==============================] - 0s 476us/step - loss: 0.5510 - accuracy: 0.7327\n",
      "Epoch 46/100\n",
      "804/804 [==============================] - 0s 494us/step - loss: 0.5510 - accuracy: 0.7327\n",
      "Epoch 47/100\n",
      "804/804 [==============================] - 0s 478us/step - loss: 0.5509 - accuracy: 0.7329\n",
      "Epoch 48/100\n",
      "804/804 [==============================] - 0s 477us/step - loss: 0.5508 - accuracy: 0.7326\n",
      "Epoch 49/100\n",
      "804/804 [==============================] - 0s 478us/step - loss: 0.5509 - accuracy: 0.7324\n",
      "Epoch 50/100\n",
      "804/804 [==============================] - 0s 478us/step - loss: 0.5507 - accuracy: 0.7328\n",
      "Epoch 51/100\n",
      "804/804 [==============================] - 0s 476us/step - loss: 0.5505 - accuracy: 0.7331\n",
      "Epoch 52/100\n",
      "804/804 [==============================] - 0s 488us/step - loss: 0.5508 - accuracy: 0.7325\n",
      "Epoch 53/100\n",
      "804/804 [==============================] - 0s 486us/step - loss: 0.5503 - accuracy: 0.7326\n",
      "Epoch 54/100\n",
      "804/804 [==============================] - 0s 476us/step - loss: 0.5506 - accuracy: 0.7332\n",
      "Epoch 55/100\n",
      "804/804 [==============================] - 0s 477us/step - loss: 0.5505 - accuracy: 0.7327\n",
      "Epoch 56/100\n",
      "804/804 [==============================] - 0s 481us/step - loss: 0.5502 - accuracy: 0.7337\n",
      "Epoch 57/100\n",
      "804/804 [==============================] - 0s 477us/step - loss: 0.5504 - accuracy: 0.7333\n",
      "Epoch 58/100\n",
      "804/804 [==============================] - 0s 479us/step - loss: 0.5503 - accuracy: 0.7331\n",
      "Epoch 59/100\n",
      "804/804 [==============================] - 0s 487us/step - loss: 0.5503 - accuracy: 0.7332\n",
      "Epoch 60/100\n",
      "804/804 [==============================] - 0s 475us/step - loss: 0.5504 - accuracy: 0.7337\n",
      "Epoch 61/100\n",
      "804/804 [==============================] - 0s 478us/step - loss: 0.5504 - accuracy: 0.7330\n",
      "Epoch 62/100\n",
      "804/804 [==============================] - 0s 477us/step - loss: 0.5502 - accuracy: 0.7331\n",
      "Epoch 63/100\n",
      "804/804 [==============================] - 0s 474us/step - loss: 0.5501 - accuracy: 0.7332\n",
      "Epoch 64/100\n",
      "804/804 [==============================] - 0s 476us/step - loss: 0.5501 - accuracy: 0.7333\n",
      "Epoch 65/100\n",
      "804/804 [==============================] - 0s 506us/step - loss: 0.5504 - accuracy: 0.7336\n",
      "Epoch 66/100\n",
      "804/804 [==============================] - 0s 479us/step - loss: 0.5501 - accuracy: 0.7335\n",
      "Epoch 67/100\n",
      "804/804 [==============================] - 0s 476us/step - loss: 0.5500 - accuracy: 0.7336\n",
      "Epoch 68/100\n",
      "804/804 [==============================] - 0s 474us/step - loss: 0.5500 - accuracy: 0.7334\n",
      "Epoch 69/100\n",
      "804/804 [==============================] - 0s 478us/step - loss: 0.5499 - accuracy: 0.7329\n",
      "Epoch 70/100\n",
      "804/804 [==============================] - 0s 475us/step - loss: 0.5498 - accuracy: 0.7343\n",
      "Epoch 71/100\n",
      "804/804 [==============================] - 0s 490us/step - loss: 0.5499 - accuracy: 0.7335\n",
      "Epoch 72/100\n",
      "804/804 [==============================] - 0s 474us/step - loss: 0.5498 - accuracy: 0.7334\n",
      "Epoch 73/100\n",
      "804/804 [==============================] - 0s 477us/step - loss: 0.5499 - accuracy: 0.7340\n",
      "Epoch 74/100\n",
      "804/804 [==============================] - 0s 477us/step - loss: 0.5497 - accuracy: 0.7338\n",
      "Epoch 75/100\n",
      "804/804 [==============================] - 0s 477us/step - loss: 0.5500 - accuracy: 0.7329\n",
      "Epoch 76/100\n",
      "804/804 [==============================] - 0s 478us/step - loss: 0.5498 - accuracy: 0.7330\n",
      "Epoch 77/100\n",
      "804/804 [==============================] - 0s 488us/step - loss: 0.5495 - accuracy: 0.7341\n",
      "Epoch 78/100\n",
      "804/804 [==============================] - 0s 478us/step - loss: 0.5494 - accuracy: 0.7339\n",
      "Epoch 79/100\n",
      "804/804 [==============================] - 0s 492us/step - loss: 0.5496 - accuracy: 0.7340\n",
      "Epoch 80/100\n",
      "804/804 [==============================] - 0s 478us/step - loss: 0.5497 - accuracy: 0.7337\n",
      "Epoch 81/100\n",
      "804/804 [==============================] - 0s 477us/step - loss: 0.5492 - accuracy: 0.7341\n",
      "Epoch 82/100\n",
      "804/804 [==============================] - 0s 477us/step - loss: 0.5493 - accuracy: 0.7341\n",
      "Epoch 83/100\n",
      "804/804 [==============================] - 0s 488us/step - loss: 0.5492 - accuracy: 0.7343\n",
      "Epoch 84/100\n",
      "804/804 [==============================] - 0s 479us/step - loss: 0.5490 - accuracy: 0.7342\n",
      "Epoch 85/100\n",
      "804/804 [==============================] - 0s 476us/step - loss: 0.5491 - accuracy: 0.7336\n",
      "Epoch 86/100\n",
      "804/804 [==============================] - 0s 474us/step - loss: 0.5492 - accuracy: 0.7344\n",
      "Epoch 87/100\n",
      "804/804 [==============================] - 0s 481us/step - loss: 0.5494 - accuracy: 0.7334\n",
      "Epoch 88/100\n",
      "804/804 [==============================] - 0s 478us/step - loss: 0.5486 - accuracy: 0.7337\n",
      "Epoch 89/100\n",
      "804/804 [==============================] - 0s 487us/step - loss: 0.5490 - accuracy: 0.7340\n",
      "Epoch 90/100\n",
      "804/804 [==============================] - 0s 477us/step - loss: 0.5491 - accuracy: 0.7341\n",
      "Epoch 91/100\n",
      "804/804 [==============================] - 0s 472us/step - loss: 0.5492 - accuracy: 0.7342\n",
      "Epoch 92/100\n",
      "804/804 [==============================] - 0s 487us/step - loss: 0.5491 - accuracy: 0.7336\n",
      "Epoch 93/100\n",
      "804/804 [==============================] - 0s 473us/step - loss: 0.5491 - accuracy: 0.7334\n",
      "Epoch 94/100\n",
      "804/804 [==============================] - 0s 475us/step - loss: 0.5492 - accuracy: 0.7341\n",
      "Epoch 95/100\n",
      "804/804 [==============================] - 0s 490us/step - loss: 0.5489 - accuracy: 0.7346\n",
      "Epoch 96/100\n",
      "804/804 [==============================] - 0s 477us/step - loss: 0.5489 - accuracy: 0.7346\n",
      "Epoch 97/100\n",
      "804/804 [==============================] - 0s 476us/step - loss: 0.5488 - accuracy: 0.7343\n",
      "Epoch 98/100\n",
      "804/804 [==============================] - 0s 477us/step - loss: 0.5490 - accuracy: 0.7338\n",
      "Epoch 99/100\n",
      "804/804 [==============================] - 0s 475us/step - loss: 0.5489 - accuracy: 0.7343\n",
      "Epoch 100/100\n",
      "804/804 [==============================] - 0s 488us/step - loss: 0.5489 - accuracy: 0.7335\n"
     ]
    }
   ],
   "source": [
    "# Train the model\n",
    "#  YOUR CODE GOES HERE\n",
    "fit_model = nn.fit(X_train_scaled,y_train,epochs=100)"
   ]
  },
  {
   "cell_type": "code",
   "execution_count": 69,
   "metadata": {},
   "outputs": [
    {
     "name": "stdout",
     "output_type": "stream",
     "text": [
      "268/268 - 0s - loss: 0.5575 - accuracy: 0.7285 - 145ms/epoch - 540us/step\n",
      "Loss: 0.5575438737869263, Accuracy: 0.7285131216049194\n"
     ]
    }
   ],
   "source": [
    "# Evaluate the model using the test data\n",
    "model_loss, model_accuracy = nn.evaluate(X_test_scaled,y_test,verbose=2)\n",
    "print(f\"Loss: {model_loss}, Accuracy: {model_accuracy}\")"
   ]
  },
  {
   "cell_type": "code",
   "execution_count": 70,
   "metadata": {},
   "outputs": [
    {
     "name": "stderr",
     "output_type": "stream",
     "text": [
      "/Users/gowest/anaconda3/lib/python3.10/site-packages/keras/src/engine/training.py:3103: UserWarning: You are saving your model as an HDF5 file via `model.save()`. This file format is considered legacy. We recommend using instead the native Keras format, e.g. `model.save('my_model.keras')`.\n",
      "  saving_api.save_model(\n"
     ]
    }
   ],
   "source": [
    "# Export our model to HDF5 file\n",
    "#  YOUR CODE GOES HERE\n",
    "nn.save(\"AlphabetSoupCharity.h5\")"
   ]
  }
 ],
 "metadata": {
  "kernelspec": {
   "display_name": "Python 3",
   "language": "python",
   "name": "python3"
  },
  "language_info": {
   "codemirror_mode": {
    "name": "ipython",
    "version": 3
   },
   "file_extension": ".py",
   "mimetype": "text/x-python",
   "name": "python",
   "nbconvert_exporter": "python",
   "pygments_lexer": "ipython3",
   "version": "3.10.9"
  },
  "vscode": {
   "interpreter": {
    "hash": "31f2aee4e71d21fbe5cf8b01ff0e069b9275f58929596ceb00d14d90e3e16cd6"
   }
  }
 },
 "nbformat": 4,
 "nbformat_minor": 4
}
